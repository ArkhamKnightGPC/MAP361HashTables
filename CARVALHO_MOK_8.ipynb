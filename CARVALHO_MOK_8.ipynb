{
 "cells": [
  {
   "cell_type": "markdown",
   "id": "f2f7bd1e",
   "metadata": {},
   "source": [
    "# <font color='289C4E'>Projet 8: Propriétés spatiales des tables de hachage universelles\n",
    "**Élèves**: Gabriel CARVALHO & Yong MOK"
   ]
  },
  {
   "cell_type": "markdown",
   "id": "6b377fee",
   "metadata": {},
   "source": [
    "## <font color='289C4E'>Table de matières<font><a class='anchor' id='top'></a>\n",
    "- [Question S1](#S1)\n",
    "- [Question S2](#S2)\n",
    "- [Question S3](#S3)\n",
    "- [Reférences](#myrefs)"
   ]
  },
  {
   "cell_type": "markdown",
   "id": "743b928c",
   "metadata": {},
   "source": [
    "<h3 align=\"center\"> <font color='blue'>Python Imports</font></h3> <a class=\"anchor\" id=\"imports\"></a>"
   ]
  },
  {
   "cell_type": "markdown",
   "id": "1f04b7aa",
   "metadata": {},
   "source": [
    "Dans cette section, on va importer tous les paquets qu'on ira utiliser plus tard."
   ]
  },
  {
   "cell_type": "code",
   "execution_count": 15,
   "id": "c6ca5ab8",
   "metadata": {},
   "outputs": [],
   "source": [
    "import math"
   ]
  },
  {
   "cell_type": "markdown",
   "id": "42cbdc11",
   "metadata": {},
   "source": [
    "<h3 align=\"center\"> <font color='blue'>Question S1</font></h3> <a class=\"anchor\" id=\"S1\"></a>"
   ]
  },
  {
   "cell_type": "markdown",
   "id": "0e688083",
   "metadata": {},
   "source": [
    "<div class=\"alert alert-block alert-info\">\n",
    "Écrire un programme qui, étant donné une table de hachage, une fonction de hachage et une donnée, modifie la table en insérant la donnée dans la bonne alvéole. Vous pouvez supposer que les données sont de type <b>Int</b>.\n",
    "\n",
    "Appliquer votre programme pour insérer la donnée 7 via la fonction de hachage $h(n) = \\lfloor\\frac{n}{4}\\rfloor$ (où $\\lfloor x \\rfloor$ est la partie entière de x) dans la table de hachage suivante (et afficher la table ainsi obtenue)\n",
    "</div>"
   ]
  },
  {
   "cell_type": "markdown",
   "id": "20471693",
   "metadata": {},
   "source": [
    "Pour ajouter une donnée $d$ dans la table de hachage $t$, on va:\n",
    "1. calculer l'alvéole $h(d)$ où on va ajouter la donnée $d$.\n",
    "2. ajouter $d$ dans l'alvéole $t[h(d)]$"
   ]
  },
  {
   "cell_type": "code",
   "execution_count": 12,
   "id": "8a52c411",
   "metadata": {},
   "outputs": [],
   "source": [
    "def ajouterDonnee(tableHachage,\n",
    "                  fonctionHachage,\n",
    "                  donnee):\n",
    "    alveole = fonctionHachage(donnee)\n",
    "    tableHachage[alveole].append(donnee)"
   ]
  },
  {
   "cell_type": "markdown",
   "id": "d97ad7f7",
   "metadata": {},
   "source": [
    "Dans l'exemple, on note que $h(7) = 1$. Donc, la donnée $7$ doit être ajouté à l'alvéole $t[1]$."
   ]
  },
  {
   "cell_type": "code",
   "execution_count": 17,
   "id": "27755a48",
   "metadata": {},
   "outputs": [
    {
     "name": "stdout",
     "output_type": "stream",
     "text": [
      "[[1, 3, 2, 0], [6, 7], [], [], [17, 18]]\n"
     ]
    }
   ],
   "source": [
    "t = [[1,3,2,0],\n",
    "     [6],\n",
    "     [],\n",
    "     [],\n",
    "     [17,18]]\n",
    "\n",
    "h = lambda d : math.floor(d/4)\n",
    "\n",
    "ajouterDonnee(t, h, 7)\n",
    "print(t)#on note que 7 est dans la bonne position"
   ]
  },
  {
   "cell_type": "markdown",
   "id": "403d0dae",
   "metadata": {},
   "source": [
    "<h3 align=\"center\"> <font color='blue'>Question S2</font></h3> <a class=\"anchor\" id=\"S2\"></a>"
   ]
  },
  {
   "cell_type": "markdown",
   "id": "31eb94a0",
   "metadata": {},
   "source": [
    "<div class=\"alert alert-block alert-info\">\n",
    "Écrire un programme qui, étant donné une table de hachage (implémentée comme expliqué plus haut), une fonction de hachage et une donnée, teste si la donnée est présente dans la table. Vous pouvez supposer que les données sont de type <b>Int</b>. Vérifier votre programme en testant successivement la présence des données 7, 15 et 18 dans la table obtenue à la fin de S1.  \n",
    "</div>"
   ]
  },
  {
   "cell_type": "markdown",
   "id": "dddc2917",
   "metadata": {},
   "source": [
    "Pour chercher une donnée $d$ dans la table de hachage $t$, on va:\n",
    "1. calculer l'alvéole $h(d)$ où chercher la donnée $d$.\n",
    "2. utiliser la fonction *list.index()* pour trouver la donnée $d$ si elle est présente.\n",
    "3. si la donnée a été trouvé, on retorne **True**, sinon on retorne **False**."
   ]
  },
  {
   "cell_type": "code",
   "execution_count": 28,
   "id": "02d42d5a",
   "metadata": {},
   "outputs": [],
   "source": [
    "def chercherDonnee(tableHachage,\n",
    "                   fonctionHachage,\n",
    "                   donnee):\n",
    "    alveole = fonctionHachage(donnee)\n",
    "    try:\n",
    "        cherche = tableHachage[alveole].index(donnee)\n",
    "        return True\n",
    "    except:\n",
    "        return False"
   ]
  },
  {
   "cell_type": "markdown",
   "id": "c7aaa658",
   "metadata": {},
   "source": [
    "Dans l'exemple, on note que $7$ et $18$ sont présentes dans la table de hachage, mais $15$ ne l'est pas."
   ]
  },
  {
   "cell_type": "code",
   "execution_count": 29,
   "id": "9853ffb9",
   "metadata": {},
   "outputs": [
    {
     "data": {
      "text/plain": [
       "True"
      ]
     },
     "execution_count": 29,
     "metadata": {},
     "output_type": "execute_result"
    }
   ],
   "source": [
    "chercherDonnee(t, h, 7)"
   ]
  },
  {
   "cell_type": "code",
   "execution_count": 30,
   "id": "07b7e594",
   "metadata": {},
   "outputs": [
    {
     "data": {
      "text/plain": [
       "False"
      ]
     },
     "execution_count": 30,
     "metadata": {},
     "output_type": "execute_result"
    }
   ],
   "source": [
    "chercherDonnee(t, h, 15)"
   ]
  },
  {
   "cell_type": "code",
   "execution_count": 31,
   "id": "2ad1ad40",
   "metadata": {},
   "outputs": [
    {
     "data": {
      "text/plain": [
       "True"
      ]
     },
     "execution_count": 31,
     "metadata": {},
     "output_type": "execute_result"
    }
   ],
   "source": [
    "chercherDonnee(t, h, 18)"
   ]
  },
  {
   "cell_type": "markdown",
   "id": "c57d022f",
   "metadata": {},
   "source": [
    "<h3 align=\"center\"> <font color='blue'>Question S3</font></h3> <a class=\"anchor\" id=\"S3\"></a>"
   ]
  },
  {
   "cell_type": "markdown",
   "id": "2d8b8f19",
   "metadata": {},
   "source": [
    "<div class=\"alert alert-block alert-info\">\n",
    "    Écrire un programme qui, étant donné une <i>List</i> d’entiers compris entre $0$ et $19$, construit la table de hachage à $5$ alvéoles associée à la fonction de hachage $h(n) = \\lfloor\\frac{n}{4}\\rfloor$, telle que chaque donnée ne soit présente qu’une fois dans la table (même si la donnée est présente en double dans la <i>List</i>). Il ne sera pas nécessaire de vérifier que les entiers de la List sont compris entre $0$ et $19$.\n",
    "    Utiliser votre programme pour constuire la table (que vous afficherez) otenue par insertion successives des données suivante (dans cet ordre) : $5$, $1$, $7$, $6$, $5$, $9$, $15$, $0$, $18$.\n",
    "</div>"
   ]
  },
  {
   "cell_type": "code",
   "execution_count": null,
   "id": "7ab40c1b",
   "metadata": {},
   "outputs": [],
   "source": []
  },
  {
   "cell_type": "code",
   "execution_count": null,
   "id": "5d863877",
   "metadata": {},
   "outputs": [],
   "source": []
  },
  {
   "cell_type": "markdown",
   "id": "44f5dba0",
   "metadata": {},
   "source": [
    "<h3 align=\"center\"> <font color='blue'>Reférences</font></h3> <a class=\"anchor\" id=\"myrefs\"></a>"
   ]
  },
  {
   "cell_type": "markdown",
   "id": "951ec326",
   "metadata": {},
   "source": []
  }
 ],
 "metadata": {
  "kernelspec": {
   "display_name": "Python 3 (ipykernel)",
   "language": "python",
   "name": "python3"
  },
  "language_info": {
   "codemirror_mode": {
    "name": "ipython",
    "version": 3
   },
   "file_extension": ".py",
   "mimetype": "text/x-python",
   "name": "python",
   "nbconvert_exporter": "python",
   "pygments_lexer": "ipython3",
   "version": "3.9.12"
  }
 },
 "nbformat": 4,
 "nbformat_minor": 5
}
