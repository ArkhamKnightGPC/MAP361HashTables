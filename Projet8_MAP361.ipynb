{
 "cells": [
  {
   "cell_type": "markdown",
   "id": "71028748",
   "metadata": {},
   "source": [
    "#Projet 8: Propriétés spatiales des tables de hachage universelles\n",
    "Élèves: Gabriel CARVALH"
   ]
  }
 ],
 "metadata": {
  "kernelspec": {
   "display_name": "Python 3 (ipykernel)",
   "language": "python",
   "name": "python3"
  },
  "language_info": {
   "codemirror_mode": {
    "name": "ipython",
    "version": 3
   },
   "file_extension": ".py",
   "mimetype": "text/x-python",
   "name": "python",
   "nbconvert_exporter": "python",
   "pygments_lexer": "ipython3",
   "version": "3.9.12"
  }
 },
 "nbformat": 4,
 "nbformat_minor": 5
}
